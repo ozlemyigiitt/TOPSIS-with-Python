{
 "cells": [
  {
   "cell_type": "code",
   "execution_count": 1,
   "metadata": {},
   "outputs": [],
   "source": [
    "import pandas as pd\n",
    "import numpy as np"
   ]
  },
  {
   "cell_type": "code",
   "execution_count": 2,
   "metadata": {},
   "outputs": [],
   "source": [
    "mtx=[[690,3.1,9,7,4]\n",
    "    ,[590,3.9,7,6,10]\n",
    "    ,[600,3.6,8,8,7]\n",
    "    ,[620,3.8,7,10,6]\n",
    "    ,[700,2.8,10,4,6]\n",
    "    ,[650,4.0,6,9,8]]"
   ]
  },
  {
   "cell_type": "code",
   "execution_count": 3,
   "metadata": {},
   "outputs": [],
   "source": [
    "w=[0.3,0.2,0.2,0.15,0.15]"
   ]
  },
  {
   "cell_type": "code",
   "execution_count": 4,
   "metadata": {},
   "outputs": [],
   "source": [
    "Names=['Alfred','Beverly','Calvin','Diana','Edward','Frank']"
   ]
  },
  {
   "cell_type": "code",
   "execution_count": 5,
   "metadata": {},
   "outputs": [
    {
     "data": {
      "text/html": [
       "<div>\n",
       "<style scoped>\n",
       "    .dataframe tbody tr th:only-of-type {\n",
       "        vertical-align: middle;\n",
       "    }\n",
       "\n",
       "    .dataframe tbody tr th {\n",
       "        vertical-align: top;\n",
       "    }\n",
       "\n",
       "    .dataframe thead th {\n",
       "        text-align: right;\n",
       "    }\n",
       "</style>\n",
       "<table border=\"1\" class=\"dataframe\">\n",
       "  <thead>\n",
       "    <tr style=\"text-align: right;\">\n",
       "      <th></th>\n",
       "      <th>0</th>\n",
       "      <th>1</th>\n",
       "      <th>2</th>\n",
       "      <th>3</th>\n",
       "      <th>4</th>\n",
       "    </tr>\n",
       "  </thead>\n",
       "  <tbody>\n",
       "    <tr>\n",
       "      <th>Alfred</th>\n",
       "      <td>690</td>\n",
       "      <td>3.1</td>\n",
       "      <td>9</td>\n",
       "      <td>7</td>\n",
       "      <td>4</td>\n",
       "    </tr>\n",
       "    <tr>\n",
       "      <th>Beverly</th>\n",
       "      <td>590</td>\n",
       "      <td>3.9</td>\n",
       "      <td>7</td>\n",
       "      <td>6</td>\n",
       "      <td>10</td>\n",
       "    </tr>\n",
       "    <tr>\n",
       "      <th>Calvin</th>\n",
       "      <td>600</td>\n",
       "      <td>3.6</td>\n",
       "      <td>8</td>\n",
       "      <td>8</td>\n",
       "      <td>7</td>\n",
       "    </tr>\n",
       "    <tr>\n",
       "      <th>Diana</th>\n",
       "      <td>620</td>\n",
       "      <td>3.8</td>\n",
       "      <td>7</td>\n",
       "      <td>10</td>\n",
       "      <td>6</td>\n",
       "    </tr>\n",
       "    <tr>\n",
       "      <th>Edward</th>\n",
       "      <td>700</td>\n",
       "      <td>2.8</td>\n",
       "      <td>10</td>\n",
       "      <td>4</td>\n",
       "      <td>6</td>\n",
       "    </tr>\n",
       "    <tr>\n",
       "      <th>Frank</th>\n",
       "      <td>650</td>\n",
       "      <td>4.0</td>\n",
       "      <td>6</td>\n",
       "      <td>9</td>\n",
       "      <td>8</td>\n",
       "    </tr>\n",
       "  </tbody>\n",
       "</table>\n",
       "</div>"
      ],
      "text/plain": [
       "           0    1   2   3   4\n",
       "Alfred   690  3.1   9   7   4\n",
       "Beverly  590  3.9   7   6  10\n",
       "Calvin   600  3.6   8   8   7\n",
       "Diana    620  3.8   7  10   6\n",
       "Edward   700  2.8  10   4   6\n",
       "Frank    650  4.0   6   9   8"
      ]
     },
     "execution_count": 5,
     "metadata": {},
     "output_type": "execute_result"
    }
   ],
   "source": [
    "##Step 1\n",
    "Data=pd.DataFrame(mtx,index=Names)\n",
    "Data"
   ]
  },
  {
   "cell_type": "code",
   "execution_count": 6,
   "metadata": {},
   "outputs": [
    {
     "data": {
      "text/html": [
       "<div>\n",
       "<style scoped>\n",
       "    .dataframe tbody tr th:only-of-type {\n",
       "        vertical-align: middle;\n",
       "    }\n",
       "\n",
       "    .dataframe tbody tr th {\n",
       "        vertical-align: top;\n",
       "    }\n",
       "\n",
       "    .dataframe thead th {\n",
       "        text-align: right;\n",
       "    }\n",
       "</style>\n",
       "<table border=\"1\" class=\"dataframe\">\n",
       "  <thead>\n",
       "    <tr style=\"text-align: right;\">\n",
       "      <th></th>\n",
       "      <th>0</th>\n",
       "      <th>1</th>\n",
       "      <th>2</th>\n",
       "      <th>3</th>\n",
       "      <th>4</th>\n",
       "    </tr>\n",
       "  </thead>\n",
       "  <tbody>\n",
       "    <tr>\n",
       "      <th>Alfred</th>\n",
       "      <td>0.438053</td>\n",
       "      <td>0.355454</td>\n",
       "      <td>0.462299</td>\n",
       "      <td>0.376322</td>\n",
       "      <td>0.230556</td>\n",
       "    </tr>\n",
       "    <tr>\n",
       "      <th>Beverly</th>\n",
       "      <td>0.374567</td>\n",
       "      <td>0.447184</td>\n",
       "      <td>0.359566</td>\n",
       "      <td>0.322562</td>\n",
       "      <td>0.576390</td>\n",
       "    </tr>\n",
       "    <tr>\n",
       "      <th>Calvin</th>\n",
       "      <td>0.380916</td>\n",
       "      <td>0.412785</td>\n",
       "      <td>0.410932</td>\n",
       "      <td>0.430083</td>\n",
       "      <td>0.403473</td>\n",
       "    </tr>\n",
       "    <tr>\n",
       "      <th>Diana</th>\n",
       "      <td>0.393613</td>\n",
       "      <td>0.435718</td>\n",
       "      <td>0.359566</td>\n",
       "      <td>0.537603</td>\n",
       "      <td>0.345834</td>\n",
       "    </tr>\n",
       "    <tr>\n",
       "      <th>Edward</th>\n",
       "      <td>0.444402</td>\n",
       "      <td>0.321055</td>\n",
       "      <td>0.513665</td>\n",
       "      <td>0.215041</td>\n",
       "      <td>0.345834</td>\n",
       "    </tr>\n",
       "    <tr>\n",
       "      <th>Frank</th>\n",
       "      <td>0.412659</td>\n",
       "      <td>0.458650</td>\n",
       "      <td>0.308199</td>\n",
       "      <td>0.483843</td>\n",
       "      <td>0.461112</td>\n",
       "    </tr>\n",
       "  </tbody>\n",
       "</table>\n",
       "</div>"
      ],
      "text/plain": [
       "                0         1         2         3         4\n",
       "Alfred   0.438053  0.355454  0.462299  0.376322  0.230556\n",
       "Beverly  0.374567  0.447184  0.359566  0.322562  0.576390\n",
       "Calvin   0.380916  0.412785  0.410932  0.430083  0.403473\n",
       "Diana    0.393613  0.435718  0.359566  0.537603  0.345834\n",
       "Edward   0.444402  0.321055  0.513665  0.215041  0.345834\n",
       "Frank    0.412659  0.458650  0.308199  0.483843  0.461112"
      ]
     },
     "execution_count": 6,
     "metadata": {},
     "output_type": "execute_result"
    }
   ],
   "source": [
    "## Step 2\n",
    "Data_norm = Data/np.sqrt(np.power(Data,2).sum(axis=0))\n",
    "Data_norm"
   ]
  },
  {
   "cell_type": "code",
   "execution_count": 7,
   "metadata": {},
   "outputs": [
    {
     "data": {
      "text/html": [
       "<div>\n",
       "<style scoped>\n",
       "    .dataframe tbody tr th:only-of-type {\n",
       "        vertical-align: middle;\n",
       "    }\n",
       "\n",
       "    .dataframe tbody tr th {\n",
       "        vertical-align: top;\n",
       "    }\n",
       "\n",
       "    .dataframe thead th {\n",
       "        text-align: right;\n",
       "    }\n",
       "</style>\n",
       "<table border=\"1\" class=\"dataframe\">\n",
       "  <thead>\n",
       "    <tr style=\"text-align: right;\">\n",
       "      <th></th>\n",
       "      <th>0</th>\n",
       "      <th>1</th>\n",
       "      <th>2</th>\n",
       "      <th>3</th>\n",
       "      <th>4</th>\n",
       "    </tr>\n",
       "  </thead>\n",
       "  <tbody>\n",
       "    <tr>\n",
       "      <th>Alfred</th>\n",
       "      <td>0.131416</td>\n",
       "      <td>0.071091</td>\n",
       "      <td>0.092460</td>\n",
       "      <td>0.056448</td>\n",
       "      <td>0.034583</td>\n",
       "    </tr>\n",
       "    <tr>\n",
       "      <th>Beverly</th>\n",
       "      <td>0.112370</td>\n",
       "      <td>0.089437</td>\n",
       "      <td>0.071913</td>\n",
       "      <td>0.048384</td>\n",
       "      <td>0.086459</td>\n",
       "    </tr>\n",
       "    <tr>\n",
       "      <th>Calvin</th>\n",
       "      <td>0.114275</td>\n",
       "      <td>0.082557</td>\n",
       "      <td>0.082186</td>\n",
       "      <td>0.064512</td>\n",
       "      <td>0.060521</td>\n",
       "    </tr>\n",
       "    <tr>\n",
       "      <th>Diana</th>\n",
       "      <td>0.118084</td>\n",
       "      <td>0.087144</td>\n",
       "      <td>0.071913</td>\n",
       "      <td>0.080640</td>\n",
       "      <td>0.051875</td>\n",
       "    </tr>\n",
       "    <tr>\n",
       "      <th>Edward</th>\n",
       "      <td>0.133321</td>\n",
       "      <td>0.064211</td>\n",
       "      <td>0.102733</td>\n",
       "      <td>0.032256</td>\n",
       "      <td>0.051875</td>\n",
       "    </tr>\n",
       "    <tr>\n",
       "      <th>Frank</th>\n",
       "      <td>0.123798</td>\n",
       "      <td>0.091730</td>\n",
       "      <td>0.061640</td>\n",
       "      <td>0.072576</td>\n",
       "      <td>0.069167</td>\n",
       "    </tr>\n",
       "  </tbody>\n",
       "</table>\n",
       "</div>"
      ],
      "text/plain": [
       "                0         1         2         3         4\n",
       "Alfred   0.131416  0.071091  0.092460  0.056448  0.034583\n",
       "Beverly  0.112370  0.089437  0.071913  0.048384  0.086459\n",
       "Calvin   0.114275  0.082557  0.082186  0.064512  0.060521\n",
       "Diana    0.118084  0.087144  0.071913  0.080640  0.051875\n",
       "Edward   0.133321  0.064211  0.102733  0.032256  0.051875\n",
       "Frank    0.123798  0.091730  0.061640  0.072576  0.069167"
      ]
     },
     "execution_count": 7,
     "metadata": {},
     "output_type": "execute_result"
    }
   ],
   "source": [
    "##Step 3\n",
    "Data_norm_w=Data_norm*w\n",
    "Data_norm_w"
   ]
  },
  {
   "cell_type": "code",
   "execution_count": 8,
   "metadata": {},
   "outputs": [
    {
     "data": {
      "text/plain": [
       "0    0.133321\n",
       "1    0.091730\n",
       "2    0.102733\n",
       "3    0.080640\n",
       "4    0.086459\n",
       "dtype: float64"
      ]
     },
     "execution_count": 8,
     "metadata": {},
     "output_type": "execute_result"
    }
   ],
   "source": [
    "Data_norm_w.max()"
   ]
  },
  {
   "cell_type": "code",
   "execution_count": 9,
   "metadata": {},
   "outputs": [
    {
     "data": {
      "text/plain": [
       "0    0.112370\n",
       "1    0.064211\n",
       "2    0.061640\n",
       "3    0.032256\n",
       "4    0.034583\n",
       "dtype: float64"
      ]
     },
     "execution_count": 9,
     "metadata": {},
     "output_type": "execute_result"
    }
   ],
   "source": [
    "Data_norm_w.min()"
   ]
  },
  {
   "cell_type": "code",
   "execution_count": 10,
   "metadata": {},
   "outputs": [],
   "source": [
    "##Step 4\n",
    "positive_ideal = Data_norm_w.max()\n",
    "negative_ideal = Data_norm_w.min()"
   ]
  },
  {
   "cell_type": "code",
   "execution_count": 11,
   "metadata": {},
   "outputs": [],
   "source": [
    "##Step 5\n",
    "SM_P = np.sqrt(np.power(Data_norm_w-positive_ideal,2).sum(axis=1))\n",
    "##negative\n",
    "SM_N = np.sqrt(np.power(Data_norm_w-negative_ideal,2).sum(axis=1))"
   ]
  },
  {
   "cell_type": "code",
   "execution_count": 12,
   "metadata": {},
   "outputs": [
    {
     "data": {
      "text/plain": [
       "Alfred     0.061737\n",
       "Beverly    0.049341\n",
       "Calvin     0.042449\n",
       "Diana      0.048980\n",
       "Edward     0.065531\n",
       "Frank      0.046297\n",
       "dtype: float64"
      ]
     },
     "execution_count": 12,
     "metadata": {},
     "output_type": "execute_result"
    }
   ],
   "source": [
    "np.sqrt(np.power(Data_norm_w-positive_ideal,2).sum(axis=1))"
   ]
  },
  {
   "cell_type": "code",
   "execution_count": 13,
   "metadata": {},
   "outputs": [
    {
     "data": {
      "text/plain": [
       "Alfred     0.044104\n",
       "Beverly    0.060770\n",
       "Calvin     0.049755\n",
       "Diana      0.057482\n",
       "Edward     0.049260\n",
       "Frank      0.060907\n",
       "dtype: float64"
      ]
     },
     "execution_count": 13,
     "metadata": {},
     "output_type": "execute_result"
    }
   ],
   "source": [
    "np.sqrt(np.power(Data_norm_w-negative_ideal,2).sum(axis=1))"
   ]
  },
  {
   "cell_type": "code",
   "execution_count": 14,
   "metadata": {},
   "outputs": [
    {
     "data": {
      "text/plain": [
       "Alfred     0.416704\n",
       "Beverly    0.551900\n",
       "Calvin     0.539620\n",
       "Diana      0.539926\n",
       "Edward     0.429128\n",
       "Frank      0.568142\n",
       "dtype: float64"
      ]
     },
     "execution_count": 14,
     "metadata": {},
     "output_type": "execute_result"
    }
   ],
   "source": [
    "SM_N/(SM_N+SM_P)"
   ]
  },
  {
   "cell_type": "code",
   "execution_count": null,
   "metadata": {},
   "outputs": [],
   "source": []
  }
 ],
 "metadata": {
  "kernelspec": {
   "display_name": "Python 3",
   "language": "python",
   "name": "python3"
  },
  "language_info": {
   "codemirror_mode": {
    "name": "ipython",
    "version": 3
   },
   "file_extension": ".py",
   "mimetype": "text/x-python",
   "name": "python",
   "nbconvert_exporter": "python",
   "pygments_lexer": "ipython3",
   "version": "3.8.5"
  }
 },
 "nbformat": 4,
 "nbformat_minor": 4
}
